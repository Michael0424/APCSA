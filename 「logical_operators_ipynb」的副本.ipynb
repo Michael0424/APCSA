{
  "nbformat": 4,
  "nbformat_minor": 0,
  "metadata": {
    "colab": {
      "provenance": []
    },
    "kernelspec": {
      "name": "python3",
      "display_name": "Python 3"
    },
    "language_info": {
      "name": "python"
    }
  },
  "cells": [
    {
      "cell_type": "markdown",
      "source": [
        "\n",
        "### **Logical Operators**\n",
        "\n",
        "Logical operators are used to combine conditional statements.\n",
        "\n",
        "**1. `and` Operator:**\n",
        "- Returns `True` if both statements are true.\n",
        "  \n",
        "  **Example:**\n",
        "  ```python\n",
        "  age = 25\n",
        "  if age > 18 and age < 30:\n",
        "      print(\"You are a young adult.\")\n",
        "  ```\n",
        "\n",
        "**2. `or` Operator:**\n",
        "- Returns `True` if at least one of the statements is true.\n",
        "  \n",
        "  **Example:**\n",
        "  ```python\n",
        "  day = \"Sunday\"\n",
        "  if day == \"Saturday\" or day == \"Sunday\":\n",
        "      print(\"It's the weekend!\")\n",
        "  ```\n",
        "\n",
        "**3. `not` Operator:**\n",
        "- Used to reverse the result; returns `False` if the result is true and vice versa.\n",
        "  \n",
        "  **Example:**\n",
        "  ```python\n",
        "  is_raining = False\n",
        "  if not is_raining:\n",
        "      print(\"It's a sunny day!\")\n",
        "  ```\n",
        "\n",
        "---\n",
        "\n",
        "### **Nested Conditional Statements**\n",
        "\n",
        "Sometimes, you may want to evaluate a condition inside another condition. This is referred to as nesting.\n",
        "\n",
        "**Example:**\n",
        "```python\n",
        "age = 25\n",
        "gender = \"Female\"\n",
        "if age < 30:\n",
        "    if gender == \"Female\":\n",
        "        print(\"Young female.\")\n",
        "    else:\n",
        "        print(\"Young male.\")\n",
        "else:\n",
        "    if gender == \"Female\":\n",
        "        print(\"Mature female.\")\n",
        "    else:\n",
        "        print(\"Mature male.\")\n",
        "```\n",
        "\n",
        "In the example above, the outer `if` checks the age, and the inner `if` checks the gender, leading to more precise classifications.\n",
        "\n"
      ],
      "metadata": {
        "id": "_J_0H623DMoG"
      }
    },
    {
      "cell_type": "code",
      "source": [
        "#Test the examples above here"
      ],
      "metadata": {
        "id": "1tzurxbLDYuS"
      },
      "execution_count": null,
      "outputs": []
    },
    {
      "cell_type": "markdown",
      "source": [
        "### **Practice Exercises:**\n",
        "\n",
        "1. **Temperature Alert:**\n",
        "   - Ask the user for the current temperature and if it's raining (yes/no).\n",
        "   - If it's above 30°C and not raining, suggest wearing sunscreen. If it's below 30°C and raining, suggest taking an umbrella.\n",
        "\n",
        "\n",
        "\n"
      ],
      "metadata": {
        "id": "_2pb9LXWDcXE"
      }
    },
    {
      "cell_type": "code",
      "source": [
        "#Ex1\n",
        "temperature = float(input(\"What is the current temperature (in °C)? \"))\n",
        "rain_status = input(\"Is it raining? (yes/no): \")\n",
        "\n",
        "if temperature > 30 and rain_status == \"no\":\n",
        "    print(\"It's hot outside, suggest to put sunscreen\")\n",
        "elif temperature < 30 and rain_status == \"yes\":\n",
        "    print(\"It's raining outside suggest to take umbrella\")"
      ],
      "metadata": {
        "id": "AyCFWr2cDiuz",
        "colab": {
          "base_uri": "https://localhost:8080/"
        },
        "outputId": "fe5baae1-4d69-4295-c942-56a0818e2058"
      },
      "execution_count": 3,
      "outputs": [
        {
          "output_type": "stream",
          "name": "stdout",
          "text": [
            "What is the current temperature (in °C)? 50\n",
            "Is it raining? (yes/no): no\n",
            "It's hot outside, suggest to put sunscreen\n"
          ]
        }
      ]
    },
    {
      "cell_type": "markdown",
      "source": [
        "2. **Movie Night:**\n",
        "   - Ask the user if they like action movies and if they like romantic movies.\n",
        "   - Recommend a movie based on their preferences:\n",
        "     - Action and romance: \"Mr. & Mrs. Smith\",\n",
        "     - Only action: \"Die Hard\",\n",
        "     - Only romance: \"Pride and Prejudice\",\n",
        "     - Neither: \"Try watching a documentary!\"\n",
        "\n"
      ],
      "metadata": {
        "id": "hne5hxgMDj0i"
      }
    },
    {
      "cell_type": "code",
      "source": [
        "#Ex2\n",
        "movie = input(\"Do you like action movies or romantic movies\")\n",
        "\n",
        "if movie == \"action \" and \"romantic\":\n",
        "  print(\"Mr & Mrs. Smith\")\n",
        "if movie == \"action\":\n",
        "  print(\"Die Hard\")\n",
        "if movie == \"romantic\":\n",
        "  print(\"Pride and Prejudice\")\n",
        "if movie == \"neither\":\n",
        "  print(\"Try watching a documentary\")"
      ],
      "metadata": {
        "id": "m13PVPajDlwd",
        "colab": {
          "base_uri": "https://localhost:8080/"
        },
        "outputId": "00ce3fa5-4fd9-49e7-cad3-2f9cdbdb6fd8"
      },
      "execution_count": 2,
      "outputs": [
        {
          "output_type": "stream",
          "name": "stdout",
          "text": [
            "Do you like action movies or romantic moviesneither\n",
            "Try watching a documentary\n"
          ]
        }
      ]
    },
    {
      "cell_type": "markdown",
      "source": [
        "3. **Eligibility for a Credit Card:**\n",
        "   - Ask the user for their age and monthly salary.\n",
        "   - If they are over 18 and earn more than $1,000 per month, inform them they are eligible for a credit card.\n"
      ],
      "metadata": {
        "id": "2DUNWDlsDmzl"
      }
    },
    {
      "cell_type": "code",
      "source": [
        "#Ex3\n",
        "age = int(input(\"How old are you? \"))\n",
        "salary = float(input(\"What is your monthly salary ? \"))\n",
        "\n",
        "if age > 18 and salary > 1000:\n",
        "    print(\"You are eligible for a credit card.\")\n",
        "else:\n",
        "    print(\"You are not eligible for a credit card.\")"
      ],
      "metadata": {
        "id": "KiuF2ByZDoZG",
        "colab": {
          "base_uri": "https://localhost:8080/"
        },
        "outputId": "d3f01468-8cdf-40cd-b002-df0bcffc0177"
      },
      "execution_count": 5,
      "outputs": [
        {
          "output_type": "stream",
          "name": "stdout",
          "text": [
            "How old are you? 45\n",
            "What is your monthly salary ? 1001\n",
            "You are eligible for a credit card.\n"
          ]
        }
      ]
    },
    {
      "cell_type": "markdown",
      "source": [
        "\n",
        "4. **Nested Age Bracket Classifier:**\n",
        "   - Ask the user for their age and gender.\n",
        "   - Classify them into 'Young/Mature Male/Female' using nested conditional statements.\n"
      ],
      "metadata": {
        "id": "0p0RmJMKDpdG"
      }
    },
    {
      "cell_type": "code",
      "source": [
        "#Ex4\n",
        "age = int(input(\"How old are you? \"))\n",
        "gender = input(\"What is your gender\")\n",
        "\n",
        "if age < 18 and gender == \"male\" :\n",
        "  print(\"you are young male\")\n",
        "if age < 18 and gender == \"female\" :\n",
        "  print(\"you are young female\")\n",
        "if age > 18 and gender == \"male\" :\n",
        "  print(\"you are mature male\")\n",
        "if age > 18 and gender == \"female\" :\n",
        "  print(\"you are mature female\")"
      ],
      "metadata": {
        "id": "QSi5-aToDrnK",
        "colab": {
          "base_uri": "https://localhost:8080/"
        },
        "outputId": "7be6cc3b-d53a-4adf-a454-3b338db7af5f"
      },
      "execution_count": 13,
      "outputs": [
        {
          "output_type": "stream",
          "name": "stdout",
          "text": [
            "How old are you? 88\n",
            "What is your genderfemale\n",
            "you are mature female\n"
          ]
        }
      ]
    },
    {
      "cell_type": "markdown",
      "source": [
        "\n",
        "5. **Weekend Activity Planner:**\n",
        "   - Ask the user if it's a weekend and if the weather is good.\n",
        "   - Provide activity suggestions based on their answers:\n",
        "     - Weekend and good weather: \"Go for a picnic!\",\n",
        "     - Weekend and bad weather: \"Maybe watch a movie at home?\",\n",
        "     - Weekday and good weather: \"Don't forget your sunglasses on your way to work!\",\n",
        "     - Weekday and bad weather: \"Take an umbrella today.\""
      ],
      "metadata": {
        "id": "tyG7h84BDsrX"
      }
    },
    {
      "cell_type": "code",
      "source": [
        "#Ex5\n",
        "weekend = input(\"is it a weekend (yes/no)?\")\n",
        "weather = input(\"is the weather good today(good/bad)?\")\n",
        "\n",
        "if weekend == \"yes\" and weather == \"good\" :\n",
        "  print(\"Go for a picnic\")\n",
        "if weekend == \"yes\" and weather == \"bad\" :\n",
        "  print(\"Maybe watch a movie at home\")\n",
        "if weekend == \"no\" and weather ==\"good\" :\n",
        "  print(\"Don't forget your sunglasses on your way to work!\")\n",
        "if weekend == \"no\" and weather ==\"bad\" :\n",
        "  print(\"Take an umbrella today\")\n"
      ],
      "metadata": {
        "id": "7q-ze3tCDtgQ",
        "colab": {
          "base_uri": "https://localhost:8080/"
        },
        "outputId": "df7c719b-bfd6-4964-91ae-9a26b3821338"
      },
      "execution_count": 19,
      "outputs": [
        {
          "output_type": "stream",
          "name": "stdout",
          "text": [
            "is it a weekend (yes/no)?no\n",
            "is the weather good today(good/bad)?bad\n",
            "Take an umbrella today\n"
          ]
        }
      ]
    }
  ]
}