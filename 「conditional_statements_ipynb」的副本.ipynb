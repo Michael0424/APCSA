{
  "nbformat": 4,
  "nbformat_minor": 0,
  "metadata": {
    "colab": {
      "provenance": [],
      "include_colab_link": true
    },
    "kernelspec": {
      "name": "python3",
      "display_name": "Python 3"
    },
    "language_info": {
      "name": "python"
    }
  },
  "cells": [
    {
      "cell_type": "markdown",
      "metadata": {
        "id": "view-in-github",
        "colab_type": "text"
      },
      "source": [
        "<a href=\"https://colab.research.google.com/github/Michael0424/APCSA/blob/main/%E3%80%8Cconditional_statements_ipynb%E3%80%8D%E7%9A%84%E5%89%AF%E6%9C%AC.ipynb\" target=\"_parent\"><img src=\"https://colab.research.google.com/assets/colab-badge.svg\" alt=\"Open In Colab\"/></a>"
      ]
    },
    {
      "cell_type": "markdown",
      "source": [
        "### **Introduction to Conditional Statements**\n",
        "\n",
        "Conditional statements allow a program to evaluate specific conditions and make decisions based on those conditions. They introduce the concept of branching, where a program can follow different paths of execution based on certain criteria.\n",
        "\n",
        "---\n",
        "\n",
        "### **Understanding if, elif, and else Statements**\n",
        "\n",
        "**1. `if` Statement:**\n",
        "- The most basic type of conditional statement.\n",
        "- Evaluates a condition, and if it's `True`, the code inside the `if` block is executed.\n",
        "\n",
        "  **Example:**\n",
        "  ```python\n",
        "  age = 20\n",
        "  if age >= 18:\n",
        "      print(\"You are an adult!\")\n",
        "  ```\n",
        "\n",
        "**2. `elif` Statement:**\n",
        "- Short for \"else if\".\n",
        "- Used to check multiple conditions after the initial `if` condition.\n",
        "- The `elif` block is executed if its condition is `True`.\n",
        "\n",
        "  **Example:**\n",
        "  ```python\n",
        "  score = 85\n",
        "  if score >= 90:\n",
        "      grade = \"A\"\n",
        "  elif score >= 80:\n",
        "      grade = \"B\"\n",
        "  ```\n",
        "\n",
        "**3. `else` Statement:**\n",
        "- Catches anything which isn't caught by the preceding conditions.\n",
        "- Does not have a condition attached to it.\n",
        "\n",
        "  **Example:**\n",
        "  ```python\n",
        "  age = 15\n",
        "  if age >= 18:\n",
        "      print(\"You are an adult!\")\n",
        "  else:\n",
        "      print(\"You are a minor!\")\n",
        "  ```\n",
        "\n",
        "---\n",
        "\n",
        "### **Writing Conditions Using Comparison Operators**\n",
        "\n",
        "**1. `==`:** Checks if two values are equal.\n",
        "  - **Example:** `x == y`\n",
        "\n",
        "**2. `!=`:** Checks if two values are not equal.\n",
        "  - **Example:** `x != y`\n",
        "\n",
        "**3. `>`:** Checks if the value on the left is greater than the one on the right.\n",
        "  - **Example:** `x > y`\n",
        "\n",
        "**4. `<`:** Checks if the value on the left is less than the one on the right.\n",
        "  - **Example:** `x < y`\n",
        "\n",
        "**5. `>=`:** Checks if the value on the left is greater than or equal to the one on the right.\n",
        "  - **Example:** `x >= y`\n",
        "\n",
        "**6. `<=`:** Checks if the value on the left is less than or equal to the one on the right.\n",
        "  - **Example:** `x <= y`\n",
        "\n",
        "---\n"
      ],
      "metadata": {
        "id": "CjxdWcqxPhy0"
      }
    },
    {
      "cell_type": "markdown",
      "source": [
        "\n",
        "### **Practice Exercises:**\n",
        "\n",
        "1. **Weekday or Weekend:**\n",
        "    - Ask the user to input a day of the week (e.g., Monday, Tuesday, etc.).\n",
        "    - Inform them if the day is a weekday or a weekend.\n",
        "\n"
      ],
      "metadata": {
        "id": "Jim4Rsi7Pn0G"
      }
    },
    {
      "cell_type": "code",
      "source": [
        "day = input(\"Enter a day of the week: \")\n",
        "if day == \"saturday\" or day == \"sunday\":\n",
        "  print(\"it is a weekend\")\n",
        "if day ==\"monday\" or day == \"tuesday\" or day == \"wednesday\" or day == \"thursday\" or day ==\"friday\":\n",
        "  print(\"it is a weekday\")\n",
        "\n"
      ],
      "metadata": {
        "id": "TkrdpDJXRKeJ",
        "colab": {
          "base_uri": "https://localhost:8080/"
        },
        "outputId": "29cd7657-e8ef-459f-a1ec-384fb6d3426c"
      },
      "execution_count": null,
      "outputs": [
        {
          "output_type": "stream",
          "name": "stdout",
          "text": [
            "Enter a day of the week: monday\n",
            "it is a weekday\n"
          ]
        }
      ]
    },
    {
      "cell_type": "markdown",
      "source": [
        "2. **Password Strength Checker:**\n",
        "    - Ask the user to input a password.\n",
        "    - Check if the password has at least 8 characters, starts with an uppercase letter, and ends with a number. Provide feedback on its strength.\n"
      ],
      "metadata": {
        "id": "1JPiLpsURKzz"
      }
    },
    {
      "cell_type": "code",
      "source": [
        "password_strength = 0\n",
        "print(\"Enter the pass word:\")\n",
        "pass_word_input = input()\n",
        "if pass_word_input[0].isupper():\n",
        "  password_strength +=1\n",
        "if len(pass_word_input) > 8:\n",
        "  password_strength +=1\n",
        "if pass_word_input[-1].isdigit() :\n",
        "  password_strength += 1\n",
        "if password_strength >= 2:\n",
        "  print(\"ur password is strong\")\n",
        "else:\n",
        "  print(\"ur password is weak\")"
      ],
      "metadata": {
        "id": "sHB4UhrHRMy5",
        "colab": {
          "base_uri": "https://localhost:8080/"
        },
        "outputId": "97dbe9ef-cac5-4aa5-858b-24d5221255ce"
      },
      "execution_count": 5,
      "outputs": [
        {
          "output_type": "stream",
          "name": "stdout",
          "text": [
            "Enter the pass word:\n",
            "123sdfgfdsdfg\n",
            "ur password is weak\n"
          ]
        }
      ]
    },
    {
      "cell_type": "markdown",
      "source": [
        "3. **Movie Ticket Pricing:**\n",
        "    - Movie theaters often have different pricing depending on age groups.\n",
        "    - Children under 12: $5, Teens (12-17): $7, Adults (18-59): $10, Seniors (60+): $6.\n",
        "    - Ask the user for their age and tell them the cost of a movie ticket.\n"
      ],
      "metadata": {
        "id": "QABbfxrVRNfo"
      }
    },
    {
      "cell_type": "code",
      "source": [
        "age = int(input(\"Please enter your age: \"))\n",
        "\n",
        "if age < 12:\n",
        "    ticket_cost = 5\n",
        "elif age <= 17:\n",
        "    ticket_cost = 7\n",
        "elif age <= 59:\n",
        "    ticket_cost = 10\n",
        "else:\n",
        "    ticket_cost = 6\n",
        "print(\"The cost of your movie ticket is: $\" + str(ticket_cost))"
      ],
      "metadata": {
        "id": "-i4B1AYyRPGp",
        "colab": {
          "base_uri": "https://localhost:8080/"
        },
        "outputId": "1ec0c4fa-7023-4b5f-acb6-d2be22b2e1c1"
      },
      "execution_count": null,
      "outputs": [
        {
          "output_type": "stream",
          "name": "stdout",
          "text": [
            "Please enter your age: 45\n",
            "The cost of your movie ticket is: $10\n"
          ]
        }
      ]
    },
    {
      "cell_type": "markdown",
      "source": [
        "4. **Tax Calculator:**\n",
        "    - Depending on the amount of income, people are taxed at different rates.\n",
        "    - Income up to $10,000: No tax, Income $10,001-$50,000: 10% tax, Income $50,001 and above: 20% tax.\n",
        "    - Ask the user for their income and calculate the tax they owe.\n",
        "\n"
      ],
      "metadata": {
        "id": "4RMhCDsXRPTO"
      }
    },
    {
      "cell_type": "code",
      "source": [
        "income = float(input(\"Please enter your income: $\"))\n",
        "\n",
        "if income <= 10000:\n",
        "    tax_owed = 0\n",
        "elif income <= 50000:\n",
        "    tax_owed = 0.1 * (income - 10000)\n",
        "else:\n",
        "    tax_owed = 0.1 * (50000 - 10000) + 0.2 * (income - 50000)\n",
        "\n",
        "print(\"Tax owed: $\" + str(tax_owed))"
      ],
      "metadata": {
        "id": "ijEDRr8FRSm0",
        "colab": {
          "base_uri": "https://localhost:8080/"
        },
        "outputId": "9fccccf6-4655-4eb2-b496-2aed48348ca5"
      },
      "execution_count": null,
      "outputs": [
        {
          "output_type": "stream",
          "name": "stdout",
          "text": [
            "Please enter your income: $40000\n",
            "Tax owed: $3000.0\n"
          ]
        }
      ]
    },
    {
      "cell_type": "markdown",
      "source": [
        "5. **Discount Eligibility:**\n",
        "    - A store offers a discount to students and senior citizens.\n",
        "    - Ask the user if they are a student or a senior citizen (yes or no for each). If they answer \"yes\" to either, inform them they are eligible for a discount.\n",
        "\n"
      ],
      "metadata": {
        "id": "qonCcp_PRTDL"
      }
    },
    {
      "cell_type": "code",
      "source": [
        "is_student = input(\"Are you a student? (yes/no): \")\n",
        "is_senior = input(\"Are you a senior citizen? (yes/no): \")\n",
        "\n",
        "if is_student == \"yes\" or is_senior == \"yes\":\n",
        "        print(\"You are eligible for a discount\")\n",
        "else:\n",
        "        print(\"you are not eligible for a discount.\")"
      ],
      "metadata": {
        "id": "5YBnUfs-RUku",
        "colab": {
          "base_uri": "https://localhost:8080/"
        },
        "outputId": "a540ff95-3fc7-4b5d-8e96-951ac95f2ad1"
      },
      "execution_count": null,
      "outputs": [
        {
          "output_type": "stream",
          "name": "stdout",
          "text": [
            "Are you a student? (yes/no): yes\n",
            "Are you a senior citizen? (yes/no): yes\n",
            "You are eligible for a discount!\n"
          ]
        }
      ]
    },
    {
      "cell_type": "markdown",
      "source": [
        "6. **Shipping Cost Calculator:**\n",
        "    - Shipping costs vary based on the weight of a package.\n",
        "    - Weight up to 1kg: $5, Weight 1.1kg-5kg: $10, Weight above 5kg: $20.\n",
        "    - Ask the user for the weight of their package and tell them the shipping cost.\n",
        "\n"
      ],
      "metadata": {
        "id": "vSf3pJOFRVGk"
      }
    },
    {
      "cell_type": "code",
      "source": [
        "from pickleshare import print_function\n",
        "weight = float(input(\"Enter the weight of the package in kg: \"))\n",
        "\n",
        "if weight <= 1:\n",
        "    shipping_cost = 5\n",
        "elif weight <= 5:\n",
        "    shipping_cost = 10\n",
        "else:\n",
        "    shipping_cost = 20\n",
        "\n",
        "print(\"Shipping cost:\", shipping_cost)\n",
        "\n"
      ],
      "metadata": {
        "id": "1roU2zvFRWbR",
        "colab": {
          "base_uri": "https://localhost:8080/"
        },
        "outputId": "72b463d3-67d3-4fd6-e74d-6cac1dd1db67"
      },
      "execution_count": null,
      "outputs": [
        {
          "output_type": "stream",
          "name": "stdout",
          "text": [
            "Enter the weight of the package in kg: 34\n",
            "Shipping cost: 20\n"
          ]
        }
      ]
    },
    {
      "cell_type": "markdown",
      "source": [
        "7. **Drink Selector:**\n",
        "    - Ask the user for their age.\n",
        "    - If they are under 18, suggest a non-alcoholic drink (like juice or soda). If they are 18 and above, suggest an alcoholic beverage (like wine or beer)."
      ],
      "metadata": {
        "id": "WXtyKwyYRWzS"
      }
    },
    {
      "cell_type": "code",
      "source": [
        "age = int(input(\"Please enter your age: \"))\n",
        "if age < 18:\n",
        "            print(\"You're under 18, do you want some juice or soda\")\n",
        "else:\n",
        "            print(\"You're older 18, do you want a glass of wine or a beer\")"
      ],
      "metadata": {
        "id": "iG4YUGa5RXeM",
        "colab": {
          "base_uri": "https://localhost:8080/"
        },
        "outputId": "9671df86-1227-4aca-8877-67e4609c4370"
      },
      "execution_count": null,
      "outputs": [
        {
          "output_type": "stream",
          "name": "stdout",
          "text": [
            "Please enter your age: 16\n",
            "You're under 18, do you want some juice or soda\n"
          ]
        }
      ]
    }
  ]
}